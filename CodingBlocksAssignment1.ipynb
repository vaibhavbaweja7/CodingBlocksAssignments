{
 "cells": [
  {
   "cell_type": "markdown",
   "metadata": {},
   "source": [
    "# 1 . Calculate length of a list\n"
   ]
  },
  {
   "cell_type": "code",
   "execution_count": 8,
   "metadata": {},
   "outputs": [
    {
     "name": "stdout",
     "output_type": "stream",
     "text": [
      "3\n"
     ]
    }
   ],
   "source": [
    "#calculating length of the list without using len function\n",
    "list=[1,2,3]\n",
    "\n",
    "def length_list(list):\n",
    "    j=0\n",
    "    for i in list:\n",
    "        j=j+1\n",
    "    print(j)    \n",
    "    \n",
    "length_list(list)    "
   ]
  },
  {
   "cell_type": "markdown",
   "metadata": {},
   "source": [
    "OR"
   ]
  },
  {
   "cell_type": "code",
   "execution_count": 10,
   "metadata": {},
   "outputs": [
    {
     "name": "stdout",
     "output_type": "stream",
     "text": [
      "3\n"
     ]
    }
   ],
   "source": [
    "#Calculating length of the list using len function\n",
    "list=[1,2,3]\n",
    "print(len(list))"
   ]
  },
  {
   "cell_type": "markdown",
   "metadata": {},
   "source": [
    "# 2. Which will create a list: \n",
    "   1.some_list = list()\n",
    "   \n",
    "   2 .some_list = list([1, 2, 3])\n",
    "   \n",
    "   3.some_list = [1, 2, 3] \n",
    "   \n",
    "   4.some_list = list(1, 2, 3) "
   ]
  },
  {
   "cell_type": "markdown",
   "metadata": {},
   "source": [
    "## Ans. \n",
    "1 will create an empty list by default\n",
    "\n",
    "2 will give a list with 3 elements  1,2,3\n",
    "\n",
    "3 will create a list with 3 elements 1,2,3\n",
    "\n",
    "4 will not create a list as list expected 1 agrument but got 3\n"
   ]
  },
  {
   "cell_type": "markdown",
   "metadata": {},
   "source": [
    "# 3 . let a list be s = [1, 3, 2, 1, 5, 3, 9]. use min(s), max(s), sum(s). also calculate the average of the list"
   ]
  },
  {
   "cell_type": "code",
   "execution_count": 13,
   "metadata": {},
   "outputs": [
    {
     "name": "stdout",
     "output_type": "stream",
     "text": [
      "1\n",
      "9\n",
      "24\n",
      "3.4285714285714284\n"
     ]
    }
   ],
   "source": [
    "s = [1, 3, 2, 1, 5, 3, 9]\n",
    "print(min(s))\n",
    "print(max(s))\n",
    "print(sum(s))\n",
    "avg = sum(s)/len(s)\n",
    "print(avg)"
   ]
  },
  {
   "cell_type": "markdown",
   "metadata": {},
   "source": [
    "# 4 . use import random and call random.shuffle(some_list) to shufﬂe the contents of the list some_list"
   ]
  },
  {
   "cell_type": "code",
   "execution_count": 17,
   "metadata": {},
   "outputs": [
    {
     "name": "stdout",
     "output_type": "stream",
     "text": [
      "[3, 2, 1]\n"
     ]
    }
   ],
   "source": [
    "import random\n",
    "some_list = [1, 2, 3]\n",
    "random.shuffle(some_list)\n",
    "print(some_list)"
   ]
  },
  {
   "cell_type": "markdown",
   "metadata": {},
   "source": [
    "# 5 . print the last 3 elements of a list without using for loops"
   ]
  },
  {
   "cell_type": "code",
   "execution_count": 23,
   "metadata": {},
   "outputs": [
    {
     "data": {
      "text/plain": [
       "[5, 3, 9]"
      ]
     },
     "execution_count": 23,
     "metadata": {},
     "output_type": "execute_result"
    }
   ],
   "source": [
    "s = [1, 3, 2, 1, 5, 3, 9]\n",
    "s[-3:]"
   ]
  },
  {
   "cell_type": "markdown",
   "metadata": {},
   "source": [
    "# 6 . let some_list = [1, 2, 3, 6, 5, 1, 7, 3]. what is the output of: 1. some_list[:-1] 2. some_list[-4:-2] 3. some_list[2:-3] "
   ]
  },
  {
   "cell_type": "code",
   "execution_count": 25,
   "metadata": {},
   "outputs": [],
   "source": [
    "# OUTPUT for 1st is [1,2,3,6,5,1,7]\n",
    "# OUTPUT for 2nd is [5,1]\n",
    "# OUTPUT for 3rd is [3,6,5]"
   ]
  },
  {
   "cell_type": "markdown",
   "metadata": {},
   "source": [
    "# 7 . Let this section of code\n",
    "def extendList(val, list=[]):\n",
    "                  \n",
    "                  list.append(val)\n",
    "                  return list \n",
    "\n",
    "list1 = extendList(10)\n",
    "\n",
    "list2 = extendList(123,[])\n",
    "\n",
    "list3 = extendList('a')\n",
    "\n",
    "print(\"list1 = %s\" % list1)\n",
    "\n",
    "print(\"list2 = %s\" % list2)\n",
    "\n",
    "print(\"list3 = %s\" % list3)\n",
    "\n",
    "What should be the output?\n",
    "\n",
    "Why is it different?\n",
    "\n",
    "How to ﬁx this?\n"
   ]
  },
  {
   "cell_type": "markdown",
   "metadata": {},
   "source": [
    "# 8 . given some code using classes:\n",
    "class A(): \n",
    "        x = 1\n",
    "        \n",
    "a = A()\n",
    "\n",
    "print a.x\n",
    "\n",
    "b = [A()] * 10\n",
    "\n",
    "for ix in b:\n",
    "        print ix.x\n",
    "\n",
    "b[2].x = 5\n",
    "\n",
    "for ix in b:\n",
    "     \n",
    "        print ix.x\n",
    "# Why is output different from expected?\n",
    "# How can we ﬁx this problem"
   ]
  },
  {
   "cell_type": "code",
   "execution_count": 42,
   "metadata": {},
   "outputs": [
    {
     "name": "stdout",
     "output_type": "stream",
     "text": [
      "1\n",
      "1\n",
      "1\n",
      "1\n",
      "1\n",
      "1\n",
      "1\n",
      "1\n",
      "1\n",
      "1\n",
      "1\n",
      "5\n",
      "5\n",
      "5\n",
      "5\n",
      "5\n",
      "5\n",
      "5\n",
      "5\n",
      "5\n",
      "5\n"
     ]
    }
   ],
   "source": [
    "class A(): \n",
    "        x = 1\n",
    "        \n",
    "a = A()\n",
    "\n",
    "print(a.x)\n",
    "\n",
    "b = [A()] * 10\n",
    "\n",
    "for ix in b:\n",
    "        print(ix.x)\n",
    "\n",
    "b[2].x = 5\n",
    "\n",
    "for ix in b:\n",
    "     \n",
    "        print(ix.x)"
   ]
  },
  {
   "cell_type": "code",
   "execution_count": 43,
   "metadata": {},
   "outputs": [],
   "source": [
    "c = []\n",
    "for i in range(10) :\n",
    "    a = A()\n",
    "    c.append(a)\n",
    "    \n",
    "    "
   ]
  },
  {
   "cell_type": "markdown",
   "metadata": {},
   "source": [
    "# 9 . use sorted in lists. consider the code below:\n",
    "class Obj: \n",
    "\n",
    "def __init__(self, a=0, b=1):\n",
    "\n",
    "self.a = a\n",
    "\n",
    "self.b = b\n",
    "\n",
    "if __name__ == \"__main__\":\n",
    "\n",
    "objects =  [Obj(1, 2), Obj(5, 4), Obj(7, 3), Obj(11, 42), Obj(8, 0), Obj(5, 9)]\n",
    "\n",
    "# Sort the above list of objects using > a as key > b as key\n"
   ]
  },
  {
   "cell_type": "code",
   "execution_count": 34,
   "metadata": {},
   "outputs": [],
   "source": [
    "class Obj:\n",
    "    def __init__(self, a=0, b=1): \n",
    "        self.a = a \n",
    "        self.b = b\n",
    "if __name__ == \"__main__\": \n",
    "    objects = [Obj(1, 2), Obj(5, 4), Obj(7, 3), Obj(11, 42), Obj(8, 0), Obj(5, 9)]    "
   ]
  },
  {
   "cell_type": "code",
   "execution_count": 36,
   "metadata": {},
   "outputs": [],
   "source": [
    "x = sorted(objects,key = lambda x : x.a, reverse = True)"
   ]
  },
  {
   "cell_type": "code",
   "execution_count": 39,
   "metadata": {},
   "outputs": [
    {
     "name": "stdout",
     "output_type": "stream",
     "text": [
      "11 42\n",
      "8 0\n",
      "7 3\n",
      "5 4\n",
      "5 9\n",
      "1 2\n"
     ]
    }
   ],
   "source": [
    "for i in x:\n",
    "    \n",
    "     print(i.a, i.b)"
   ]
  },
  {
   "cell_type": "markdown",
   "metadata": {},
   "source": [
    "# 10 . List and string slicing\n",
    " s = \"This is introduction to python for web development\"\n",
    " Obtain each word of the string in a list"
   ]
  },
  {
   "cell_type": "code",
   "execution_count": 28,
   "metadata": {},
   "outputs": [
    {
     "name": "stdout",
     "output_type": "stream",
     "text": [
      "['This', 'is', 'introduction', 'to', 'python', 'for', 'web', 'development']\n"
     ]
    }
   ],
   "source": [
    "import re\n",
    "\n",
    "s = \"This is introduction to python for web development\"\n",
    "wordList = re.sub(\"[^\\w]\", \" \",  s).split()\n",
    "print(wordList)"
   ]
  },
  {
   "cell_type": "markdown",
   "metadata": {},
   "source": [
    "# 11 . Print Pyramid patterns using for and while loops\n",
    "@\n",
    "\n",
    "@@\n",
    "\n",
    "@@@ \n",
    "\n",
    "@@@@\n",
    "\n",
    "@@@@@"
   ]
  },
  {
   "cell_type": "code",
   "execution_count": 26,
   "metadata": {},
   "outputs": [
    {
     "name": "stdout",
     "output_type": "stream",
     "text": [
      "@ \r\n",
      "@ @ \r\n",
      "@ @ @ \r\n",
      "@ @ @ @ \r\n",
      "@ @ @ @ @ \r\n"
     ]
    }
   ],
   "source": [
    "def pattern(n): \n",
    "      \n",
    "     \n",
    "    for    \n",
    "            print(\"@ \",end=\"\") \n",
    "       \n",
    "        \n",
    "        print(\"\\r\") \n",
    "  \n",
    "\n",
    "n = 5\n",
    "pattern(n) "
   ]
  },
  {
   "cell_type": "markdown",
   "metadata": {},
   "source": [
    "# 12 . What will the following code print\n",
    "\n",
    "some_string = \"abacdaegakialaop\"\n",
    "\n",
    "print(some_string.split('a', 2))\n"
   ]
  },
  {
   "cell_type": "code",
   "execution_count": 44,
   "metadata": {},
   "outputs": [
    {
     "name": "stdout",
     "output_type": "stream",
     "text": [
      "['', 'b', 'cdaegakialaop']\n"
     ]
    }
   ],
   "source": [
    "some_string = \"abacdaegakialaop\"\n",
    "\n",
    "print(some_string.split('a', 2))"
   ]
  },
  {
   "cell_type": "code",
   "execution_count": null,
   "metadata": {},
   "outputs": [],
   "source": []
  }
 ],
 "metadata": {
  "kernelspec": {
   "display_name": "Python 3",
   "language": "python",
   "name": "python3"
  },
  "language_info": {
   "codemirror_mode": {
    "name": "ipython",
    "version": 3
   },
   "file_extension": ".py",
   "mimetype": "text/x-python",
   "name": "python",
   "nbconvert_exporter": "python",
   "pygments_lexer": "ipython3",
   "version": "3.7.0"
  }
 },
 "nbformat": 4,
 "nbformat_minor": 2
}
